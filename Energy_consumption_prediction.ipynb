{
 "cells": [
  {
   "cell_type": "code",
   "execution_count": 1,
   "id": "2dac8301",
   "metadata": {},
   "outputs": [],
   "source": [
    "import pandas as pd\n",
    "import numpy as np\n",
    "import matplotlib.pyplot as plt\n",
    "import seaborn as sns\n",
    "from sklearn.preprocessing import MinMaxScaler\n",
    "from keras.models import Sequential\n",
    "from keras.layers import *"
   ]
  },
  {
   "cell_type": "markdown",
   "id": "143bfc1d",
   "metadata": {},
   "source": [
    "# Read Dataset"
   ]
  },
  {
   "cell_type": "code",
   "execution_count": 2,
   "id": "282f93ee",
   "metadata": {},
   "outputs": [
    {
     "data": {
      "text/html": [
       "<div>\n",
       "<style scoped>\n",
       "    .dataframe tbody tr th:only-of-type {\n",
       "        vertical-align: middle;\n",
       "    }\n",
       "\n",
       "    .dataframe tbody tr th {\n",
       "        vertical-align: top;\n",
       "    }\n",
       "\n",
       "    .dataframe thead th {\n",
       "        text-align: right;\n",
       "    }\n",
       "</style>\n",
       "<table border=\"1\" class=\"dataframe\">\n",
       "  <thead>\n",
       "    <tr style=\"text-align: right;\">\n",
       "      <th></th>\n",
       "      <th>Datetime</th>\n",
       "      <th>DOM_MW</th>\n",
       "    </tr>\n",
       "  </thead>\n",
       "  <tbody>\n",
       "    <tr>\n",
       "      <th>0</th>\n",
       "      <td>2005-12-31 01:00:00</td>\n",
       "      <td>9389.0</td>\n",
       "    </tr>\n",
       "    <tr>\n",
       "      <th>1</th>\n",
       "      <td>2005-12-31 02:00:00</td>\n",
       "      <td>9070.0</td>\n",
       "    </tr>\n",
       "    <tr>\n",
       "      <th>2</th>\n",
       "      <td>2005-12-31 03:00:00</td>\n",
       "      <td>9001.0</td>\n",
       "    </tr>\n",
       "    <tr>\n",
       "      <th>3</th>\n",
       "      <td>2005-12-31 04:00:00</td>\n",
       "      <td>9042.0</td>\n",
       "    </tr>\n",
       "    <tr>\n",
       "      <th>4</th>\n",
       "      <td>2005-12-31 05:00:00</td>\n",
       "      <td>9132.0</td>\n",
       "    </tr>\n",
       "  </tbody>\n",
       "</table>\n",
       "</div>"
      ],
      "text/plain": [
       "              Datetime  DOM_MW\n",
       "0  2005-12-31 01:00:00  9389.0\n",
       "1  2005-12-31 02:00:00  9070.0\n",
       "2  2005-12-31 03:00:00  9001.0\n",
       "3  2005-12-31 04:00:00  9042.0\n",
       "4  2005-12-31 05:00:00  9132.0"
      ]
     },
     "execution_count": 2,
     "metadata": {},
     "output_type": "execute_result"
    }
   ],
   "source": [
    "df = pd.read_csv(\"energy_consumption.csv\")\n",
    "df.head()"
   ]
  },
  {
   "cell_type": "code",
   "execution_count": 3,
   "id": "46a7c336",
   "metadata": {},
   "outputs": [
    {
     "data": {
      "text/html": [
       "<div>\n",
       "<style scoped>\n",
       "    .dataframe tbody tr th:only-of-type {\n",
       "        vertical-align: middle;\n",
       "    }\n",
       "\n",
       "    .dataframe tbody tr th {\n",
       "        vertical-align: top;\n",
       "    }\n",
       "\n",
       "    .dataframe thead th {\n",
       "        text-align: right;\n",
       "    }\n",
       "</style>\n",
       "<table border=\"1\" class=\"dataframe\">\n",
       "  <thead>\n",
       "    <tr style=\"text-align: right;\">\n",
       "      <th></th>\n",
       "      <th>DOM_MW</th>\n",
       "    </tr>\n",
       "    <tr>\n",
       "      <th>Datetime</th>\n",
       "      <th></th>\n",
       "    </tr>\n",
       "  </thead>\n",
       "  <tbody>\n",
       "    <tr>\n",
       "      <th>2005-12-31 01:00:00</th>\n",
       "      <td>9389.0</td>\n",
       "    </tr>\n",
       "    <tr>\n",
       "      <th>2005-12-31 02:00:00</th>\n",
       "      <td>9070.0</td>\n",
       "    </tr>\n",
       "    <tr>\n",
       "      <th>2005-12-31 03:00:00</th>\n",
       "      <td>9001.0</td>\n",
       "    </tr>\n",
       "    <tr>\n",
       "      <th>2005-12-31 04:00:00</th>\n",
       "      <td>9042.0</td>\n",
       "    </tr>\n",
       "    <tr>\n",
       "      <th>2005-12-31 05:00:00</th>\n",
       "      <td>9132.0</td>\n",
       "    </tr>\n",
       "  </tbody>\n",
       "</table>\n",
       "</div>"
      ],
      "text/plain": [
       "                     DOM_MW\n",
       "Datetime                   \n",
       "2005-12-31 01:00:00  9389.0\n",
       "2005-12-31 02:00:00  9070.0\n",
       "2005-12-31 03:00:00  9001.0\n",
       "2005-12-31 04:00:00  9042.0\n",
       "2005-12-31 05:00:00  9132.0"
      ]
     },
     "execution_count": 3,
     "metadata": {},
     "output_type": "execute_result"
    }
   ],
   "source": [
    "df = pd.read_csv(\"energy_consumption.csv\", index_col = 'Datetime' , parse_dates = ['Datetime'])\n",
    "df.head()"
   ]
  },
  {
   "cell_type": "code",
   "execution_count": 4,
   "id": "54904993",
   "metadata": {},
   "outputs": [
    {
     "name": "stdout",
     "output_type": "stream",
     "text": [
      "<class 'pandas.core.frame.DataFrame'>\n",
      "DatetimeIndex: 116189 entries, 2005-12-31 01:00:00 to 2018-01-02 00:00:00\n",
      "Data columns (total 1 columns):\n",
      " #   Column  Non-Null Count   Dtype  \n",
      "---  ------  --------------   -----  \n",
      " 0   DOM_MW  116189 non-null  float64\n",
      "dtypes: float64(1)\n",
      "memory usage: 1.8 MB\n"
     ]
    }
   ],
   "source": [
    "df.info()"
   ]
  },
  {
   "cell_type": "code",
   "execution_count": 5,
   "id": "6c46536d",
   "metadata": {},
   "outputs": [
    {
     "data": {
      "text/plain": [
       "(116189, 1)"
      ]
     },
     "execution_count": 5,
     "metadata": {},
     "output_type": "execute_result"
    }
   ],
   "source": [
    "df.shape"
   ]
  },
  {
   "cell_type": "markdown",
   "id": "b110af8f",
   "metadata": {},
   "source": [
    "# Data Preprocessing"
   ]
  },
  {
   "cell_type": "code",
   "execution_count": 6,
   "id": "d96aee0d",
   "metadata": {},
   "outputs": [],
   "source": [
    "def scaling(df):\n",
    "    scaler = MinMaxScaler()\n",
    "    df['DOM_MW'] = scaler.fit_transform(df['DOM_MW'].values.reshape(-1,1))\n",
    "    return df"
   ]
  },
  {
   "cell_type": "code",
   "execution_count": 7,
   "id": "8032dcc4",
   "metadata": {},
   "outputs": [],
   "source": [
    "scaled_df = scaling(df)"
   ]
  },
  {
   "cell_type": "code",
   "execution_count": 8,
   "id": "3eea223c",
   "metadata": {},
   "outputs": [
    {
     "data": {
      "text/plain": [
       "(116189, 1)"
      ]
     },
     "execution_count": 8,
     "metadata": {},
     "output_type": "execute_result"
    }
   ],
   "source": [
    "scaled_df.shape"
   ]
  },
  {
   "cell_type": "code",
   "execution_count": 9,
   "id": "c611d529",
   "metadata": {},
   "outputs": [],
   "source": [
    "def data_preprocessing(data, time_step):\n",
    "    x_train = []\n",
    "    y_train = []\n",
    "    \n",
    "    for i in range(time_step, len(data)):\n",
    "        x_train.append(data.iloc[i - time_step:i , 0])\n",
    "        y_train.append(data.iloc[i,0])\n",
    "        \n",
    "    x_test = x_train[110000:]\n",
    "    y_test = y_train[110000:]\n",
    "    \n",
    "    x_train = x_train[:110000]\n",
    "    y_train = y_train[:110000]\n",
    "    \n",
    "    x_test = np.array(x_test)\n",
    "    y_test = np.array(y_test)\n",
    "    x_train = np.array(x_train)\n",
    "    y_train = np.array(y_train)\n",
    "    \n",
    "    x_train = np.reshape(x_train,(110000, time_step, 1)) \n",
    "    x_test = np.reshape(x_test, (x_test.shape[0], time_step, 1))\n",
    "    \n",
    "    return [x_train, y_train, x_test, y_test]"
   ]
  },
  {
   "cell_type": "code",
   "execution_count": 10,
   "id": "c487c376",
   "metadata": {},
   "outputs": [],
   "source": [
    "time_step = 50\n",
    "x_train, y_train, x_test, y_test = data_preprocessing(scaled_df, time_step)"
   ]
  },
  {
   "cell_type": "code",
   "execution_count": 11,
   "id": "cebebf2e",
   "metadata": {},
   "outputs": [
    {
     "name": "stdout",
     "output_type": "stream",
     "text": [
      "(110000, 50, 1)\n",
      "(110000,)\n"
     ]
    }
   ],
   "source": [
    "print(x_train.shape)\n",
    "print(y_train.shape)"
   ]
  },
  {
   "cell_type": "code",
   "execution_count": 12,
   "id": "0cdc687f",
   "metadata": {},
   "outputs": [
    {
     "name": "stdout",
     "output_type": "stream",
     "text": [
      "(6139, 50, 1)\n",
      "(6139,)\n"
     ]
    }
   ],
   "source": [
    "print(x_test.shape)\n",
    "print(y_test.shape)"
   ]
  },
  {
   "cell_type": "markdown",
   "id": "59a36f05",
   "metadata": {},
   "source": [
    "# RNN Model"
   ]
  },
  {
   "cell_type": "code",
   "execution_count": 13,
   "id": "cbde6df2",
   "metadata": {},
   "outputs": [],
   "source": [
    "rnn_model = Sequential()\n",
    "\n",
    "rnn_model.add(SimpleRNN(40, activation = 'tanh', return_sequences = True,\n",
    "                       input_shape = (x_train.shape[1], 1)))\n",
    "\n",
    "rnn_model.add(Dropout(0.15))\n",
    "\n",
    "rnn_model.add(SimpleRNN(40, activation = 'tanh', return_sequences = True))\n",
    "\n",
    "rnn_model.add(Dropout(0.15))\n",
    "\n",
    "rnn_model.add(SimpleRNN(40, activation = 'tanh', return_sequences = True))\n",
    "\n",
    "rnn_model.add(Dropout(0.15))\n",
    "\n",
    "rnn_model.add(Dense(1))\n",
    "    "
   ]
  },
  {
   "cell_type": "markdown",
   "id": "5404cdeb",
   "metadata": {},
   "source": [
    "# Model Compile & Fit"
   ]
  },
  {
   "cell_type": "code",
   "execution_count": 14,
   "id": "93d43dc8",
   "metadata": {},
   "outputs": [],
   "source": [
    "rnn_model.compile(optimizer = 'adam', loss = 'MSE')"
   ]
  },
  {
   "cell_type": "code",
   "execution_count": 15,
   "id": "eeb9af40",
   "metadata": {},
   "outputs": [
    {
     "name": "stdout",
     "output_type": "stream",
     "text": [
      "Epoch 1/10\n",
      "3438/3438 [==============================] - 71s 20ms/step - loss: 0.0222\n",
      "Epoch 2/10\n",
      "3438/3438 [==============================] - 73s 21ms/step - loss: 0.0142\n",
      "Epoch 3/10\n",
      "3438/3438 [==============================] - 81s 24ms/step - loss: 0.0140\n",
      "Epoch 4/10\n",
      "3438/3438 [==============================] - 84s 25ms/step - loss: 0.0139\n",
      "Epoch 5/10\n",
      "3438/3438 [==============================] - 105s 31ms/step - loss: 0.0139\n",
      "Epoch 6/10\n",
      "3438/3438 [==============================] - 96s 28ms/step - loss: 0.0139\n",
      "Epoch 7/10\n",
      "3438/3438 [==============================] - 105s 31ms/step - loss: 0.0139\n",
      "Epoch 8/10\n",
      "3438/3438 [==============================] - 101s 29ms/step - loss: 0.0139\n",
      "Epoch 9/10\n",
      "3438/3438 [==============================] - 123s 36ms/step - loss: 0.0139\n",
      "Epoch 10/10\n",
      "3438/3438 [==============================] - 132s 38ms/step - loss: 0.0139\n"
     ]
    },
    {
     "data": {
      "text/plain": [
       "<keras.callbacks.History at 0x1e4f6130eb0>"
      ]
     },
     "execution_count": 15,
     "metadata": {},
     "output_type": "execute_result"
    }
   ],
   "source": [
    "rnn_model.fit(x_train, y_train, epochs = 10)"
   ]
  },
  {
   "cell_type": "markdown",
   "id": "6a1fcd50",
   "metadata": {},
   "source": [
    "# Model Prediction"
   ]
  },
  {
   "cell_type": "code",
   "execution_count": 16,
   "id": "0f644c94",
   "metadata": {},
   "outputs": [
    {
     "name": "stdout",
     "output_type": "stream",
     "text": [
      "192/192 [==============================] - 3s 10ms/step\n"
     ]
    },
    {
     "data": {
      "text/plain": [
       "array([[[0.4717713 ],\n",
       "        [0.4724102 ],\n",
       "        [0.47319564],\n",
       "        ...,\n",
       "        [0.47363126],\n",
       "        [0.47323966],\n",
       "        [0.47311673]],\n",
       "\n",
       "       [[0.47194678],\n",
       "        [0.4727041 ],\n",
       "        [0.47366497],\n",
       "        ...,\n",
       "        [0.4731385 ],\n",
       "        [0.47318447],\n",
       "        [0.47317848]],\n",
       "\n",
       "       [[0.47229278],\n",
       "        [0.473203  ],\n",
       "        [0.4743135 ],\n",
       "        ...,\n",
       "        [0.4730939 ],\n",
       "        [0.4732404 ],\n",
       "        [0.47332692]],\n",
       "\n",
       "       ...,\n",
       "\n",
       "       [[0.47644386],\n",
       "        [0.47533917],\n",
       "        [0.474659  ],\n",
       "        ...,\n",
       "        [0.47600237],\n",
       "        [0.4757037 ],\n",
       "        [0.47571594]],\n",
       "\n",
       "       [[0.47628483],\n",
       "        [0.47510332],\n",
       "        [0.47444534],\n",
       "        ...,\n",
       "        [0.4758906 ],\n",
       "        [0.47563118],\n",
       "        [0.47554323]],\n",
       "\n",
       "       [[0.47599983],\n",
       "        [0.47487587],\n",
       "        [0.47439995],\n",
       "        ...,\n",
       "        [0.4758082 ],\n",
       "        [0.47546318],\n",
       "        [0.475442  ]]], dtype=float32)"
      ]
     },
     "execution_count": 16,
     "metadata": {},
     "output_type": "execute_result"
    }
   ],
   "source": [
    "rnn_pred = rnn_model.predict(x_test)\n",
    "rnn_pred"
   ]
  },
  {
   "cell_type": "markdown",
   "id": "7ff40e5c",
   "metadata": {},
   "source": [
    "# LSTM Model"
   ]
  },
  {
   "cell_type": "code",
   "execution_count": 18,
   "id": "04b6cace",
   "metadata": {},
   "outputs": [],
   "source": [
    "lstm_model = Sequential()\n",
    "\n",
    "lstm_model.add(LSTM(40, activation = 'tanh', return_sequences = True,\n",
    "                   input_shape= (x_train.shape[1],1)))\n",
    "lstm_model.add(Dropout(0.15))\n",
    "\n",
    "lstm_model.add(LSTM(40, activation = 'tanh', return_sequences = True))\n",
    "lstm_model.add(Dropout(0.15))\n",
    "\n",
    "lstm_model.add(LSTM(40, activation = 'tanh', return_sequences = True))\n",
    "lstm_model.add(Dropout(0.15))\n",
    "\n",
    "lstm_model.add(Dense(1))"
   ]
  },
  {
   "cell_type": "markdown",
   "id": "46fa630e",
   "metadata": {},
   "source": [
    "# Model Compile & Fit"
   ]
  },
  {
   "cell_type": "code",
   "execution_count": 19,
   "id": "bba6b429",
   "metadata": {},
   "outputs": [
    {
     "name": "stdout",
     "output_type": "stream",
     "text": [
      "Epoch 1/10\n",
      "3438/3438 [==============================] - 211s 59ms/step - loss: 0.0154\n",
      "Epoch 2/10\n",
      "3438/3438 [==============================] - 238s 69ms/step - loss: 0.0140\n",
      "Epoch 3/10\n",
      "3438/3438 [==============================] - 229s 67ms/step - loss: 0.0139\n",
      "Epoch 4/10\n",
      "3438/3438 [==============================] - 223s 65ms/step - loss: 0.0139\n",
      "Epoch 5/10\n",
      "3438/3438 [==============================] - 233s 68ms/step - loss: 0.0139\n",
      "Epoch 6/10\n",
      "3438/3438 [==============================] - 210s 61ms/step - loss: 0.0139\n",
      "Epoch 7/10\n",
      "3438/3438 [==============================] - 197s 57ms/step - loss: 0.0139\n",
      "Epoch 8/10\n",
      "3438/3438 [==============================] - 184s 54ms/step - loss: 0.0139\n",
      "Epoch 9/10\n",
      "3438/3438 [==============================] - 209s 61ms/step - loss: 0.0139\n",
      "Epoch 10/10\n",
      "3438/3438 [==============================] - 208s 61ms/step - loss: 0.0139\n"
     ]
    },
    {
     "data": {
      "text/plain": [
       "<keras.callbacks.History at 0x1e4e9bdba30>"
      ]
     },
     "execution_count": 19,
     "metadata": {},
     "output_type": "execute_result"
    }
   ],
   "source": [
    "lstm_model.compile(optimizer = 'adam', loss ='MSE')\n",
    "lstm_model.fit(x_train, y_train, epochs = 10)"
   ]
  },
  {
   "cell_type": "code",
   "execution_count": 20,
   "id": "ea75e2e6",
   "metadata": {},
   "outputs": [
    {
     "name": "stdout",
     "output_type": "stream",
     "text": [
      "192/192 [==============================] - 3s 13ms/step\n"
     ]
    },
    {
     "data": {
      "text/plain": [
       "array([[[0.47030148],\n",
       "        [0.4703003 ],\n",
       "        [0.4702678 ],\n",
       "        ...,\n",
       "        [0.469917  ],\n",
       "        [0.46991682],\n",
       "        [0.46991336]],\n",
       "\n",
       "       [[0.47030565],\n",
       "        [0.47031164],\n",
       "        [0.47028965],\n",
       "        ...,\n",
       "        [0.46991682],\n",
       "        [0.46991336],\n",
       "        [0.46991187]],\n",
       "\n",
       "       [[0.47031382],\n",
       "        [0.47033226],\n",
       "        [0.4703254 ],\n",
       "        ...,\n",
       "        [0.4699134 ],\n",
       "        [0.46991187],\n",
       "        [0.46991253]],\n",
       "\n",
       "       ...,\n",
       "\n",
       "       [[0.47041336],\n",
       "        [0.47050017],\n",
       "        [0.4705211 ],\n",
       "        ...,\n",
       "        [0.47175187],\n",
       "        [0.47175857],\n",
       "        [0.47176152]],\n",
       "\n",
       "       [[0.4704093 ],\n",
       "        [0.47048923],\n",
       "        [0.4705029 ],\n",
       "        ...,\n",
       "        [0.47175854],\n",
       "        [0.47176152],\n",
       "        [0.47175917]],\n",
       "\n",
       "       [[0.47040215],\n",
       "        [0.4704747 ],\n",
       "        [0.47048488],\n",
       "        ...,\n",
       "        [0.4717615 ],\n",
       "        [0.47175914],\n",
       "        [0.47175175]]], dtype=float32)"
      ]
     },
     "execution_count": 20,
     "metadata": {},
     "output_type": "execute_result"
    }
   ],
   "source": [
    "lstm_pred = lstm_model.predict(x_test)\n",
    "lstm_pred"
   ]
  },
  {
   "cell_type": "code",
   "execution_count": null,
   "id": "71621dce",
   "metadata": {},
   "outputs": [],
   "source": []
  }
 ],
 "metadata": {
  "kernelspec": {
   "display_name": "Python 3 (ipykernel)",
   "language": "python",
   "name": "python3"
  },
  "language_info": {
   "codemirror_mode": {
    "name": "ipython",
    "version": 3
   },
   "file_extension": ".py",
   "mimetype": "text/x-python",
   "name": "python",
   "nbconvert_exporter": "python",
   "pygments_lexer": "ipython3",
   "version": "3.9.18"
  }
 },
 "nbformat": 4,
 "nbformat_minor": 5
}
